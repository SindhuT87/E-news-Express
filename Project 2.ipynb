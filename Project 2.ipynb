{
 "cells": [
  {
   "cell_type": "markdown",
   "metadata": {},
   "source": [
    "# E-News Express Project"
   ]
  },
  {
   "cell_type": "markdown",
   "metadata": {},
   "source": [
    "## Background\n",
    "\n",
    "An online news portal aims to expand its business by acquiring new subscribers. Every visitor to the website takes certain actions based on their interest. The company plans to analyze these interests and wants to determine whether a new feature will be effective or not. Companies often analyze users' responses to two variants of a product to decide which of the two variants is more effective. This experimental technique is known as a/b testing that is used to determine whether a new feature attracts users based on a chosen metric.\n",
    "\n",
    "The design team of the company has created a new landing page. It has to be decide whether the new landing page is more effective to gather new subscribers. Suppose 100 users are randomly selected and divided equally into two groups. The old landing page is served to the first group (control group) and the new landing page is served to the second group (treatment group). Various data about the customers in both groups are collected in 'abtest.csv'. "
   ]
  },
  {
   "cell_type": "markdown",
   "metadata": {},
   "source": [
    "## Objective\n",
    "\n",
    "To explore the dataset and extract insights using Exploratory Data Analysis. To perform statistical analysis to answer the key questions and provide inferences and recomendations based on all the results.\n"
   ]
  },
  {
   "cell_type": "markdown",
   "metadata": {},
   "source": [
    "## Key Questions\n",
    "\n",
    "1. Do the users spend more time on the new landing page than the old landing page? \n",
    "2. Is the conversion rate (the proportion of users who visit the landing page and get converted) for the new page greater than the conversion rate for the old page? \n",
    "3. Does the converted status depend on the preferred language? \n",
    "4. Is the mean time spent on the new page same for the different language users?\n",
    "\n",
    "*Consider a significance level of 0.05 for all tests."
   ]
  },
  {
   "cell_type": "markdown",
   "metadata": {},
   "source": [
    "## Data Description\n",
    "\n",
    "1. user_id - This represents the user ID of the person visiting the website.\n",
    "2. group - This represents whether the user belongs to the first group (control) or the second group (treatment).\n",
    "3. landing_page - This represents whether the landing page is new or old.\n",
    "4. time_spent_on_the_page - This represents the time (in minutes) spent by the user on the landing page.\n",
    "5. converted - This represents whether the user gets converted to a subscriber of the news portal or not.\n",
    "6. language_preferred - This represents the language chosen by the user to view the landing page."
   ]
  },
  {
   "cell_type": "markdown",
   "metadata": {},
   "source": [
    "### Import necessary libraries"
   ]
  },
  {
   "cell_type": "code",
   "execution_count": 1,
   "metadata": {},
   "outputs": [],
   "source": [
    "# Library to suppress warnings or deprecation notes \n",
    "import warnings\n",
    "warnings.filterwarnings('ignore')"
   ]
  },
  {
   "cell_type": "code",
   "execution_count": 2,
   "metadata": {},
   "outputs": [],
   "source": [
    "#import the important packages\n",
    "import pandas as pd #library used for data manipulation and analysis\n",
    "import numpy as np # library used for working with arrays.\n",
    "import matplotlib.pyplot as plt # library for plots and visualisations\n",
    "import seaborn as sns # library for visualisations\n",
    "%matplotlib inline \n",
    "\n",
    "import scipy.stats as stats # library for probability distributions and statistical functions"
   ]
  },
  {
   "cell_type": "code",
   "execution_count": 3,
   "metadata": {},
   "outputs": [],
   "source": [
    "data1=pd.read_csv(\"abtest.csv\") # read dataset from the file"
   ]
  },
  {
   "cell_type": "code",
   "execution_count": 4,
   "metadata": {},
   "outputs": [],
   "source": [
    "# copying data to another varaible to avoid any changes to original data\n",
    "data=data1 "
   ]
  },
  {
   "cell_type": "code",
   "execution_count": 5,
   "metadata": {},
   "outputs": [
    {
     "data": {
      "text/html": [
       "<div>\n",
       "<style scoped>\n",
       "    .dataframe tbody tr th:only-of-type {\n",
       "        vertical-align: middle;\n",
       "    }\n",
       "\n",
       "    .dataframe tbody tr th {\n",
       "        vertical-align: top;\n",
       "    }\n",
       "\n",
       "    .dataframe thead th {\n",
       "        text-align: right;\n",
       "    }\n",
       "</style>\n",
       "<table border=\"1\" class=\"dataframe\">\n",
       "  <thead>\n",
       "    <tr style=\"text-align: right;\">\n",
       "      <th></th>\n",
       "      <th>user_id</th>\n",
       "      <th>group</th>\n",
       "      <th>landing_page</th>\n",
       "      <th>time_spent_on_the_page</th>\n",
       "      <th>converted</th>\n",
       "      <th>language_preferred</th>\n",
       "    </tr>\n",
       "  </thead>\n",
       "  <tbody>\n",
       "    <tr>\n",
       "      <th>0</th>\n",
       "      <td>546592</td>\n",
       "      <td>control</td>\n",
       "      <td>old</td>\n",
       "      <td>3.48</td>\n",
       "      <td>no</td>\n",
       "      <td>Spanish</td>\n",
       "    </tr>\n",
       "    <tr>\n",
       "      <th>1</th>\n",
       "      <td>546468</td>\n",
       "      <td>treatment</td>\n",
       "      <td>new</td>\n",
       "      <td>7.13</td>\n",
       "      <td>yes</td>\n",
       "      <td>English</td>\n",
       "    </tr>\n",
       "    <tr>\n",
       "      <th>2</th>\n",
       "      <td>546462</td>\n",
       "      <td>treatment</td>\n",
       "      <td>new</td>\n",
       "      <td>4.40</td>\n",
       "      <td>no</td>\n",
       "      <td>Spanish</td>\n",
       "    </tr>\n",
       "    <tr>\n",
       "      <th>3</th>\n",
       "      <td>546567</td>\n",
       "      <td>control</td>\n",
       "      <td>old</td>\n",
       "      <td>3.02</td>\n",
       "      <td>no</td>\n",
       "      <td>French</td>\n",
       "    </tr>\n",
       "    <tr>\n",
       "      <th>4</th>\n",
       "      <td>546459</td>\n",
       "      <td>treatment</td>\n",
       "      <td>new</td>\n",
       "      <td>4.75</td>\n",
       "      <td>yes</td>\n",
       "      <td>Spanish</td>\n",
       "    </tr>\n",
       "  </tbody>\n",
       "</table>\n",
       "</div>"
      ],
      "text/plain": [
       "   user_id      group landing_page  time_spent_on_the_page converted  \\\n",
       "0   546592    control          old                    3.48        no   \n",
       "1   546468  treatment          new                    7.13       yes   \n",
       "2   546462  treatment          new                    4.40        no   \n",
       "3   546567    control          old                    3.02        no   \n",
       "4   546459  treatment          new                    4.75       yes   \n",
       "\n",
       "  language_preferred  \n",
       "0            Spanish  \n",
       "1            English  \n",
       "2            Spanish  \n",
       "3             French  \n",
       "4            Spanish  "
      ]
     },
     "execution_count": 5,
     "metadata": {},
     "output_type": "execute_result"
    }
   ],
   "source": [
    "# looking at head (5 observations) \n",
    "data.head()"
   ]
  },
  {
   "cell_type": "markdown",
   "metadata": {},
   "source": [
    "**Observations**\n",
    "* The variables group, landing_page, converted and language_preferred are categorical variables."
   ]
  },
  {
   "cell_type": "markdown",
   "metadata": {},
   "source": [
    "### Check the shape of the dataset"
   ]
  },
  {
   "cell_type": "code",
   "execution_count": 6,
   "metadata": {},
   "outputs": [
    {
     "data": {
      "text/plain": [
       "(100, 6)"
      ]
     },
     "execution_count": 6,
     "metadata": {},
     "output_type": "execute_result"
    }
   ],
   "source": [
    "data.shape"
   ]
  },
  {
   "cell_type": "markdown",
   "metadata": {},
   "source": [
    "There are 100 rows and 6 columns"
   ]
  },
  {
   "cell_type": "markdown",
   "metadata": {},
   "source": [
    "### Check the info()"
   ]
  },
  {
   "cell_type": "code",
   "execution_count": 7,
   "metadata": {},
   "outputs": [
    {
     "name": "stdout",
     "output_type": "stream",
     "text": [
      "<class 'pandas.core.frame.DataFrame'>\n",
      "RangeIndex: 100 entries, 0 to 99\n",
      "Data columns (total 6 columns):\n",
      " #   Column                  Non-Null Count  Dtype  \n",
      "---  ------                  --------------  -----  \n",
      " 0   user_id                 100 non-null    int64  \n",
      " 1   group                   100 non-null    object \n",
      " 2   landing_page            100 non-null    object \n",
      " 3   time_spent_on_the_page  100 non-null    float64\n",
      " 4   converted               100 non-null    object \n",
      " 5   language_preferred      100 non-null    object \n",
      "dtypes: float64(1), int64(1), object(4)\n",
      "memory usage: 4.8+ KB\n"
     ]
    }
   ],
   "source": [
    "data.info()"
   ]
  },
  {
   "cell_type": "markdown",
   "metadata": {},
   "source": [
    "## Data Processing"
   ]
  },
  {
   "cell_type": "markdown",
   "metadata": {},
   "source": [
    "### Summary of data"
   ]
  },
  {
   "cell_type": "code",
   "execution_count": 7,
   "metadata": {
    "scrolled": true
   },
   "outputs": [
    {
     "data": {
      "text/html": [
       "<div>\n",
       "<style scoped>\n",
       "    .dataframe tbody tr th:only-of-type {\n",
       "        vertical-align: middle;\n",
       "    }\n",
       "\n",
       "    .dataframe tbody tr th {\n",
       "        vertical-align: top;\n",
       "    }\n",
       "\n",
       "    .dataframe thead th {\n",
       "        text-align: right;\n",
       "    }\n",
       "</style>\n",
       "<table border=\"1\" class=\"dataframe\">\n",
       "  <thead>\n",
       "    <tr style=\"text-align: right;\">\n",
       "      <th></th>\n",
       "      <th>user_id</th>\n",
       "      <th>time_spent_on_the_page</th>\n",
       "    </tr>\n",
       "  </thead>\n",
       "  <tbody>\n",
       "    <tr>\n",
       "      <th>count</th>\n",
       "      <td>100.000000</td>\n",
       "      <td>100.000000</td>\n",
       "    </tr>\n",
       "    <tr>\n",
       "      <th>mean</th>\n",
       "      <td>546517.000000</td>\n",
       "      <td>5.377800</td>\n",
       "    </tr>\n",
       "    <tr>\n",
       "      <th>std</th>\n",
       "      <td>52.295779</td>\n",
       "      <td>2.378166</td>\n",
       "    </tr>\n",
       "    <tr>\n",
       "      <th>min</th>\n",
       "      <td>546443.000000</td>\n",
       "      <td>0.190000</td>\n",
       "    </tr>\n",
       "    <tr>\n",
       "      <th>25%</th>\n",
       "      <td>546467.750000</td>\n",
       "      <td>3.880000</td>\n",
       "    </tr>\n",
       "    <tr>\n",
       "      <th>50%</th>\n",
       "      <td>546492.500000</td>\n",
       "      <td>5.415000</td>\n",
       "    </tr>\n",
       "    <tr>\n",
       "      <th>75%</th>\n",
       "      <td>546567.250000</td>\n",
       "      <td>7.022500</td>\n",
       "    </tr>\n",
       "    <tr>\n",
       "      <th>max</th>\n",
       "      <td>546592.000000</td>\n",
       "      <td>10.710000</td>\n",
       "    </tr>\n",
       "  </tbody>\n",
       "</table>\n",
       "</div>"
      ],
      "text/plain": [
       "             user_id  time_spent_on_the_page\n",
       "count     100.000000              100.000000\n",
       "mean   546517.000000                5.377800\n",
       "std        52.295779                2.378166\n",
       "min    546443.000000                0.190000\n",
       "25%    546467.750000                3.880000\n",
       "50%    546492.500000                5.415000\n",
       "75%    546567.250000                7.022500\n",
       "max    546592.000000               10.710000"
      ]
     },
     "execution_count": 7,
     "metadata": {},
     "output_type": "execute_result"
    }
   ],
   "source": [
    "data.describe() # describing numerical values"
   ]
  },
  {
   "cell_type": "markdown",
   "metadata": {},
   "source": [
    "* Mean time spent on a page is 5.37 mintues with a std deviation of 2.37 minutes.\n",
    "* Minimum time spent on a page is 0.19 minutes and maximum time is 10.7 minutes."
   ]
  },
  {
   "cell_type": "code",
   "execution_count": 9,
   "metadata": {},
   "outputs": [
    {
     "data": {
      "text/html": [
       "<div>\n",
       "<style scoped>\n",
       "    .dataframe tbody tr th:only-of-type {\n",
       "        vertical-align: middle;\n",
       "    }\n",
       "\n",
       "    .dataframe tbody tr th {\n",
       "        vertical-align: top;\n",
       "    }\n",
       "\n",
       "    .dataframe thead th {\n",
       "        text-align: right;\n",
       "    }\n",
       "</style>\n",
       "<table border=\"1\" class=\"dataframe\">\n",
       "  <thead>\n",
       "    <tr style=\"text-align: right;\">\n",
       "      <th></th>\n",
       "      <th>group</th>\n",
       "      <th>landing_page</th>\n",
       "      <th>converted</th>\n",
       "      <th>language_preferred</th>\n",
       "    </tr>\n",
       "  </thead>\n",
       "  <tbody>\n",
       "    <tr>\n",
       "      <th>count</th>\n",
       "      <td>100</td>\n",
       "      <td>100</td>\n",
       "      <td>100</td>\n",
       "      <td>100</td>\n",
       "    </tr>\n",
       "    <tr>\n",
       "      <th>unique</th>\n",
       "      <td>2</td>\n",
       "      <td>2</td>\n",
       "      <td>2</td>\n",
       "      <td>3</td>\n",
       "    </tr>\n",
       "    <tr>\n",
       "      <th>top</th>\n",
       "      <td>control</td>\n",
       "      <td>new</td>\n",
       "      <td>yes</td>\n",
       "      <td>French</td>\n",
       "    </tr>\n",
       "    <tr>\n",
       "      <th>freq</th>\n",
       "      <td>50</td>\n",
       "      <td>50</td>\n",
       "      <td>54</td>\n",
       "      <td>34</td>\n",
       "    </tr>\n",
       "  </tbody>\n",
       "</table>\n",
       "</div>"
      ],
      "text/plain": [
       "          group landing_page converted language_preferred\n",
       "count       100          100       100                100\n",
       "unique        2            2         2                  3\n",
       "top     control          new       yes             French\n",
       "freq         50           50        54                 34"
      ]
     },
     "execution_count": 9,
     "metadata": {},
     "output_type": "execute_result"
    }
   ],
   "source": [
    "data.describe(exclude='number') # describing non-numeric values"
   ]
  },
  {
   "cell_type": "markdown",
   "metadata": {},
   "source": [
    "**Observations**\n",
    "* There are only 2 unique values in the variables group, landing_page and converted. \n",
    "* The variable language_preferred has 3 unique values.\n",
    "\n",
    "So these can be considered as Categorical variables\n"
   ]
  },
  {
   "cell_type": "markdown",
   "metadata": {},
   "source": [
    "### Fixing the datatypes"
   ]
  },
  {
   "cell_type": "code",
   "execution_count": 10,
   "metadata": {},
   "outputs": [],
   "source": [
    "# Categorical column should be converted to categorical type \n",
    "# (It reduces the data space required to store the dataframe, \n",
    "# every class in the categorical column will be represented by a number under the hood.\n",
    "# This is useful during model building)\n",
    "\n",
    "data[\"group\"] = data.group.astype('category')\n",
    "data[\"landing_page\"] = data.landing_page.astype('category')\n",
    "data[\"converted\"] = data.converted.astype('category')\n",
    "data[\"language_preferred\"] = data.language_preferred.astype('category')"
   ]
  },
  {
   "cell_type": "code",
   "execution_count": 13,
   "metadata": {},
   "outputs": [
    {
     "name": "stdout",
     "output_type": "stream",
     "text": [
      "<class 'pandas.core.frame.DataFrame'>\n",
      "RangeIndex: 100 entries, 0 to 99\n",
      "Data columns (total 6 columns):\n",
      " #   Column                  Non-Null Count  Dtype   \n",
      "---  ------                  --------------  -----   \n",
      " 0   user_id                 100 non-null    int64   \n",
      " 1   group                   100 non-null    category\n",
      " 2   landing_page            100 non-null    category\n",
      " 3   time_spent_on_the_page  100 non-null    float64 \n",
      " 4   converted               100 non-null    category\n",
      " 5   language_preferred      100 non-null    category\n",
      "dtypes: category(4), float64(1), int64(1)\n",
      "memory usage: 2.5 KB\n"
     ]
    }
   ],
   "source": [
    "data.info()"
   ]
  },
  {
   "cell_type": "markdown",
   "metadata": {},
   "source": [
    "### Check for missing values"
   ]
  },
  {
   "cell_type": "code",
   "execution_count": 11,
   "metadata": {},
   "outputs": [
    {
     "data": {
      "text/plain": [
       "user_id                   0\n",
       "group                     0\n",
       "landing_page              0\n",
       "time_spent_on_the_page    0\n",
       "converted                 0\n",
       "language_preferred        0\n",
       "dtype: int64"
      ]
     },
     "execution_count": 11,
     "metadata": {},
     "output_type": "execute_result"
    }
   ],
   "source": [
    "data.isnull().sum()"
   ]
  },
  {
   "cell_type": "markdown",
   "metadata": {},
   "source": [
    "There are no missing values"
   ]
  },
  {
   "cell_type": "markdown",
   "metadata": {},
   "source": [
    "# EDA"
   ]
  },
  {
   "cell_type": "markdown",
   "metadata": {},
   "source": [
    "## Central tendency and Dispersion"
   ]
  },
  {
   "cell_type": "markdown",
   "metadata": {},
   "source": [
    "#### Central tendency of a variable is a single value to represent the whole list. There are 3 kinds: Mean, Median and Mode\n",
    "\n",
    "In this case study the only numerical value which can have central tendency and dispersion is time_spent_on_the_page "
   ]
  },
  {
   "cell_type": "code",
   "execution_count": 15,
   "metadata": {},
   "outputs": [
    {
     "data": {
      "text/plain": [
       "5.377800000000002"
      ]
     },
     "execution_count": 15,
     "metadata": {},
     "output_type": "execute_result"
    }
   ],
   "source": [
    "data[\"time_spent_on_the_page\"].mean()"
   ]
  },
  {
   "cell_type": "markdown",
   "metadata": {},
   "source": [
    "Mean is the arithmetic average of all observations."
   ]
  },
  {
   "cell_type": "code",
   "execution_count": 16,
   "metadata": {},
   "outputs": [
    {
     "data": {
      "text/plain": [
       "5.415"
      ]
     },
     "execution_count": 16,
     "metadata": {},
     "output_type": "execute_result"
    }
   ],
   "source": [
    "data[\"time_spent_on_the_page\"].median()"
   ]
  },
  {
   "cell_type": "markdown",
   "metadata": {},
   "source": [
    "Median is the middle most value in the list after arranging it is ascending order."
   ]
  },
  {
   "cell_type": "code",
   "execution_count": 17,
   "metadata": {},
   "outputs": [
    {
     "data": {
      "text/plain": [
       "4.75    2\n",
       "7.16    2\n",
       "6.04    2\n",
       "5.86    2\n",
       "3.88    2\n",
       "       ..\n",
       "4.40    1\n",
       "0.22    1\n",
       "5.96    1\n",
       "3.13    1\n",
       "5.41    1\n",
       "Name: time_spent_on_the_page, Length: 94, dtype: int64"
      ]
     },
     "execution_count": 17,
     "metadata": {},
     "output_type": "execute_result"
    }
   ],
   "source": [
    "data[\"time_spent_on_the_page\"].value_counts()"
   ]
  },
  {
   "cell_type": "markdown",
   "metadata": {},
   "source": [
    "Mode is the observation(s) with highest frequency. There can be more than 1 mode to a variable.\n",
    "Here the observations have a frequency of 2 or 1. Therefore insight of mode is not possible."
   ]
  },
  {
   "cell_type": "markdown",
   "metadata": {},
   "source": [
    "## Dispersion"
   ]
  },
  {
   "cell_type": "markdown",
   "metadata": {},
   "source": [
    "* Range of a variable is the maximum value - minimum value.\n",
    "* IQR is computed on the middle 50% of observations after eliminating highest and lowest 25%. It is less affected by outliers. "
   ]
  },
  {
   "cell_type": "code",
   "execution_count": 12,
   "metadata": {},
   "outputs": [
    {
     "name": "stdout",
     "output_type": "stream",
     "text": [
      "Range: 10.52  minutes\n",
      "IQR:  3.1425  minutes\n"
     ]
    }
   ],
   "source": [
    "timerange=data[\"time_spent_on_the_page\"].max()-data[\"time_spent_on_the_page\"].min() # finding range of time_spent_on_the_page\n",
    "\n",
    "iqrtime=data[\"time_spent_on_the_page\"].quantile(q=0.75)-data[\"time_spent_on_the_page\"].quantile(q=0.25) # finding IQR of \n",
    "                                                                                                        # time_spent_on_the_page\n",
    "print(\"Range: %.2f\"%timerange,\" minutes\")\n",
    "print(\"IQR: \",iqrtime,\" minutes\")"
   ]
  },
  {
   "cell_type": "markdown",
   "metadata": {},
   "source": [
    "### Univariate analysis of numerical variables"
   ]
  },
  {
   "cell_type": "code",
   "execution_count": 13,
   "metadata": {},
   "outputs": [],
   "source": [
    "# This function takes the numerical column as the input and returns the boxplots \n",
    "# and histograms for the variable.\n",
    "\n",
    "def histogram_boxplot(feature, title, figsize=(15,10), bins = None):\n",
    "    \"\"\" Boxplot and histogram combined\n",
    "    feature: 1-d feature array\n",
    "    figsize: size of fig (default (9,8))\n",
    "    bins: number of bins (default None / auto)\n",
    "    \"\"\"\n",
    "    f2, (ax_box2, ax_hist2) = plt.subplots(nrows = 2, # Number of rows of the subplot grid= 2\n",
    "                                           sharex = True, # x-axis will be shared among all subplots\n",
    "                                           gridspec_kw = {\"height_ratios\": (.25, .75)}, \n",
    "                                           figsize = figsize \n",
    "                                           ) # creating the 2 subplots\n",
    "    \n",
    "    \n",
    "    p=sns.boxplot(feature, ax=ax_box2, showmeans=True, color='red').set_title(title) # boxplot will be created and a star will indicate the mean value of the column\n",
    "    sns.distplot(feature, kde=F, ax=ax_hist2, bins=bins,palette=\"tab10\") if bins else sns.distplot(feature, kde=False, ax=ax_hist2) # For histogram\n",
    "    ax_hist2.axvline(np.mean(feature), color='g', linestyle='--') # Add mean to the histogram\n",
    "    ax_hist2.axvline(np.median(feature), color='black', linestyle='-') # Add median to the histogram\n",
    "    plt.show()\n",
    " "
   ]
  },
  {
   "cell_type": "markdown",
   "metadata": {},
   "source": [
    "### time_spent_on_the_page"
   ]
  },
  {
   "cell_type": "code",
   "execution_count": 21,
   "metadata": {
    "scrolled": false
   },
   "outputs": [
    {
     "data": {
      "image/png": "[encoded data removed]",
      "text/plain": [
       "<Figure size 1080x720 with 2 Axes>"
      ]
     },
     "metadata": {
      "needs_background": "light"
     },
     "output_type": "display_data"
    }
   ],
   "source": [
    "histogram_boxplot(data[\"time_spent_on_the_page\"],\"All users\")"
   ]
  },
  {
   "cell_type": "code",
   "execution_count": 22,
   "metadata": {},
   "outputs": [
    {
     "data": {
      "text/plain": [
       "5.377800000000002"
      ]
     },
     "execution_count": 22,
     "metadata": {},
     "output_type": "execute_result"
    }
   ],
   "source": [
    "data[\"time_spent_on_the_page\"].mean()"
   ]
  },
  {
   "cell_type": "markdown",
   "metadata": {},
   "source": [
    "**Observation**\n",
    "\n",
    "* Mean time spent on a page by all users is 5.37 minutes.\n",
    "\n",
    "* The plot looks like a normal distribution."
   ]
  },
  {
   "cell_type": "code",
   "execution_count": 52,
   "metadata": {
    "scrolled": false
   },
   "outputs": [
    {
     "data": {
      "image/png": "[encoded data removed]",
      "text/plain": [
       "<Figure size 1080x720 with 2 Axes>"
      ]
     },
     "metadata": {
      "needs_background": "light"
     },
     "output_type": "display_data"
    }
   ],
   "source": [
    "df1=data[(data[\"landing_page\"]==\"old\")] # dataset of users whose landing page is old (Control group)\n",
    "histogram_boxplot(df1[\"time_spent_on_the_page\"],\"Control group\")"
   ]
  },
  {
   "cell_type": "code",
   "execution_count": 24,
   "metadata": {},
   "outputs": [
    {
     "data": {
      "text/plain": [
       "4.532400000000001"
      ]
     },
     "execution_count": 24,
     "metadata": {},
     "output_type": "execute_result"
    }
   ],
   "source": [
    "df1[\"time_spent_on_the_page\"].mean()"
   ]
  },
  {
   "cell_type": "markdown",
   "metadata": {},
   "source": [
    "**Observation**\n",
    "\n",
    "* Mean time spent on the old page is 4.53 minutes."
   ]
  },
  {
   "cell_type": "code",
   "execution_count": 55,
   "metadata": {},
   "outputs": [
    {
     "data": {
      "image/png": "[encoded data removed]",
      "text/plain": [
       "<Figure size 1080x720 with 2 Axes>"
      ]
     },
     "metadata": {
      "needs_background": "light"
     },
     "output_type": "display_data"
    }
   ],
   "source": [
    "df2=data[(data[\"landing_page\"]==\"new\")] # dataset of users whose landing page is new (Treatment group)\n",
    "histogram_boxplot(df2[\"time_spent_on_the_page\"],\"Treatment group\")"
   ]
  },
  {
   "cell_type": "code",
   "execution_count": 26,
   "metadata": {},
   "outputs": [
    {
     "data": {
      "text/plain": [
       "6.2232"
      ]
     },
     "execution_count": 26,
     "metadata": {},
     "output_type": "execute_result"
    }
   ],
   "source": [
    "df2[\"time_spent_on_the_page\"].mean()"
   ]
  },
  {
   "cell_type": "markdown",
   "metadata": {},
   "source": [
    "**Observation**\n",
    "\n",
    "* Mean time spent on new page is 6.22 minutes.\n",
    "\n",
    "* There are few outliers.\n"
   ]
  },
  {
   "cell_type": "markdown",
   "metadata": {},
   "source": [
    "### User_id"
   ]
  },
  {
   "cell_type": "code",
   "execution_count": 27,
   "metadata": {},
   "outputs": [
    {
     "data": {
      "text/plain": [
       "100"
      ]
     },
     "execution_count": 27,
     "metadata": {},
     "output_type": "execute_result"
    }
   ],
   "source": [
    "data[\"user_id\"].nunique()"
   ]
  },
  {
   "cell_type": "markdown",
   "metadata": {},
   "source": [
    "* All 100 users are unique. This means that there is no overlap in users in the control group and treatment group. Both are independent."
   ]
  },
  {
   "cell_type": "markdown",
   "metadata": {},
   "source": [
    "### Univariate analysis on categorical variables"
   ]
  },
  {
   "cell_type": "markdown",
   "metadata": {},
   "source": [
    "### Group"
   ]
  },
  {
   "cell_type": "code",
   "execution_count": 14,
   "metadata": {},
   "outputs": [
    {
     "data": {
      "image/png": "[encoded data removed]",
      "text/plain": [
       "<Figure size 432x288 with 1 Axes>"
      ]
     },
     "metadata": {
      "needs_background": "light"
     },
     "output_type": "display_data"
    }
   ],
   "source": [
    "ax=sns.countplot(data[\"group\"],palette=\"tab10\")\n",
    "\n",
    "total = len(data[\"group\"]) # length of the column\n",
    "for p in ax.patches:\n",
    "    x = p.get_x() + p.get_width() / 2 - 0.05 # width of the plot\n",
    "    y = p.get_y() + p.get_height()           # hieght of the plot\n",
    "    ax.annotate(p.get_height(), (x, y), size = 12) # annotate the count"
   ]
  },
  {
   "cell_type": "markdown",
   "metadata": {},
   "source": [
    "* There are 50 users each in the control group and treatment group"
   ]
  },
  {
   "cell_type": "markdown",
   "metadata": {},
   "source": [
    "### Landing_Page"
   ]
  },
  {
   "cell_type": "code",
   "execution_count": 29,
   "metadata": {
    "scrolled": true
   },
   "outputs": [
    {
     "data": {
      "image/png": "[encoded data removed]",
      "text/plain": [
       "<Figure size 432x288 with 1 Axes>"
      ]
     },
     "metadata": {
      "needs_background": "light"
     },
     "output_type": "display_data"
    }
   ],
   "source": [
    "ax=sns.countplot(data[\"landing_page\"],palette=\"tab10\")\n",
    "\n",
    "total = len(data[\"landing_page\"]) # length of the column\n",
    "for p in ax.patches:\n",
    "    x = p.get_x() + p.get_width() / 2 - 0.05 # width of the plot\n",
    "    y = p.get_y() + p.get_height()           # hieght of the plot\n",
    "    ax.annotate(p.get_height(), (x, y), size = 12) # annotate the count"
   ]
  },
  {
   "cell_type": "markdown",
   "metadata": {},
   "source": [
    "* 50 users go to the new landing page and other 50 users go to the old landing page"
   ]
  },
  {
   "cell_type": "markdown",
   "metadata": {},
   "source": [
    "### Converted"
   ]
  },
  {
   "cell_type": "code",
   "execution_count": 8,
   "metadata": {
    "scrolled": true
   },
   "outputs": [
    {
     "data": {
      "image/png": "[encoded data removed]",
      "text/plain": [
       "<Figure size 432x288 with 1 Axes>"
      ]
     },
     "metadata": {
      "needs_background": "light"
     },
     "output_type": "display_data"
    }
   ],
   "source": [
    "ax=sns.countplot(data[\"converted\"],palette=\"tab10\")\n",
    "\n",
    "total = len(data[\"converted\"]) # length of the column\n",
    "for p in ax.patches: # Product:\n",
    "    x = p.get_x() + p.get_width() / 2 - 0.05 # width of the plot\n",
    "    y = p.get_y() + p.get_height()           # hieght of the plot\n",
    "    ax.annotate(p.get_height(), (x, y), size = 12) # annotate the count"
   ]
  },
  {
   "cell_type": "markdown",
   "metadata": {},
   "source": [
    "* 54 users have converted to a subscriber of the news portal"
   ]
  },
  {
   "cell_type": "markdown",
   "metadata": {},
   "source": [
    "### Language_Preferred"
   ]
  },
  {
   "cell_type": "code",
   "execution_count": 53,
   "metadata": {},
   "outputs": [
    {
     "data": {
      "image/png": "[encoded data removed]",
      "text/plain": [
       "<Figure size 432x288 with 1 Axes>"
      ]
     },
     "metadata": {
      "needs_background": "light"
     },
     "output_type": "display_data"
    }
   ],
   "source": [
    "ax=sns.countplot(data[\"language_preferred\"],palette=\"tab10\")\n",
    "\n",
    "total = len(data[\"language_preferred\"]) # length of the column\n",
    "for p in ax.patches:\n",
    "    x = p.get_x() + p.get_width() / 2 - 0.05 # width of the plot\n",
    "    y = p.get_y() + p.get_height()           # hieght of the plot\n",
    "    ax.annotate(p.get_height(), (x, y), size = 12) # annotate the count"
   ]
  },
  {
   "cell_type": "markdown",
   "metadata": {},
   "source": [
    "* 32 users prefer English\n",
    "* 34 users prefer French\n",
    "* 34 users prefer Spanish\n"
   ]
  },
  {
   "cell_type": "markdown",
   "metadata": {},
   "source": [
    "### Bivariate analysis"
   ]
  },
  {
   "cell_type": "markdown",
   "metadata": {},
   "source": [
    "#### To see how variables depend on each other"
   ]
  },
  {
   "cell_type": "code",
   "execution_count": 32,
   "metadata": {},
   "outputs": [
    {
     "data": {
      "text/plain": [
       "<seaborn.axisgrid.FacetGrid at 0x1ff0a0ad220>"
      ]
     },
     "execution_count": 32,
     "metadata": {},
     "output_type": "execute_result"
    },
    {
     "data": {
      "image/png": "[encoded data removed]",
      "text/plain": [
       "<Figure size 720x360 with 2 Axes>"
      ]
     },
     "metadata": {
      "needs_background": "light"
     },
     "output_type": "display_data"
    }
   ],
   "source": [
    "sns.catplot(col=\"landing_page\",x=\"group\",data=data,kind=\"count\",palette=\"tab10\")"
   ]
  },
  {
   "cell_type": "markdown",
   "metadata": {},
   "source": [
    "**Observations**\n",
    "* Landing page of Control group is Old\n",
    "* Landing page of Treatment group is New\n",
    "* There are 50 users in each category\n",
    "* The 2 groups are independent"
   ]
  },
  {
   "cell_type": "code",
   "execution_count": 34,
   "metadata": {},
   "outputs": [
    {
     "data": {
      "text/plain": [
       "<AxesSubplot:xlabel='landing_page', ylabel='time_spent_on_the_page'>"
      ]
     },
     "execution_count": 34,
     "metadata": {},
     "output_type": "execute_result"
    },
    {
     "data": {
      "image/png": "[encoded data removed]",
      "text/plain": [
       "<Figure size 432x288 with 1 Axes>"
      ]
     },
     "metadata": {
      "needs_background": "light"
     },
     "output_type": "display_data"
    }
   ],
   "source": [
    "sns.swarmplot(x=\"landing_page\",y=\"time_spent_on_the_page\",data=data,palette=\"tab10\")"
   ]
  },
  {
   "cell_type": "markdown",
   "metadata": {},
   "source": [
    "* Minimum time spent on the new page is higher than the old page. "
   ]
  },
  {
   "cell_type": "code",
   "execution_count": 56,
   "metadata": {},
   "outputs": [
    {
     "data": {
      "image/png": "[encoded data removed]",
      "text/plain": [
       "<Figure size 432x288 with 2 Axes>"
      ]
     },
     "metadata": {
      "needs_background": "light"
     },
     "output_type": "display_data"
    }
   ],
   "source": [
    "f, axes = plt.subplots(1, 2)\n",
    "plt.subplots_adjust(left=None, bottom=None, right=None, top=None, wspace=0.5, hspace=None)\n",
    "\n",
    "# number of users converted from the old landing page\n",
    "ax=sns.countplot(x=\"converted\",data=df1,orient='v' , ax=axes[0],palette=\"tab10\")\n",
    "ax.set_title(\"Control group\")\n",
    "total = len(df1[\"converted\"]) # length of the column\n",
    "for p in ax.patches:\n",
    "    x = p.get_x() + p.get_width() / 2 - 0.05 # width of the plot\n",
    "    y = p.get_y() + p.get_height()           # hieght of the plot\n",
    "    ax.annotate('{:.1f}%'.format(round(p.get_height()/total*100,2)), (x, y), size = 12) # annotate the %\n",
    "\n",
    "# number of users converted from the new landing page\n",
    "ax=sns.countplot(x=\"converted\",data=df2,orient='v' , ax=axes[1],palette=\"tab10\")\n",
    "ax.set_title(\"Treatment group\")\n",
    "total = len(df2[\"converted\"]) # length of the column\n",
    "for p in ax.patches:\n",
    "    x = p.get_x() + p.get_width() / 2 - 0.05 # width of the plot\n",
    "    y = p.get_y() + p.get_height()           # hieght of the plot\n",
    "    ax.annotate('{:.1f}%'.format(round(p.get_height()/total*100,2)), (x, y), size = 12) # annotate the %"
   ]
  },
  {
   "cell_type": "markdown",
   "metadata": {},
   "source": [
    "**Observations**\n",
    "* 66% of users who landed in the new page have converted.\n",
    "* 58% of users who landed in the old page have not converted."
   ]
  },
  {
   "cell_type": "code",
   "execution_count": 36,
   "metadata": {},
   "outputs": [
    {
     "data": {
      "text/plain": [
       "<seaborn.axisgrid.FacetGrid at 0x1ff09ef72e0>"
      ]
     },
     "execution_count": 36,
     "metadata": {},
     "output_type": "execute_result"
    },
    {
     "data": {
      "image/png": "[encoded data removed]",
      "text/plain": [
       "<Figure size 1080x360 with 3 Axes>"
      ]
     },
     "metadata": {
      "needs_background": "light"
     },
     "output_type": "display_data"
    }
   ],
   "source": [
    "sns.catplot(x=\"landing_page\",col=\"language_preferred\",data=data,kind=\"count\",palette=\"tab10\")"
   ]
  },
  {
   "cell_type": "markdown",
   "metadata": {},
   "source": [
    "* In each language, there are equal number of users in the old landing page and new landing page.\n",
    "* In all 3 languages, there is no big difference in the number of users."
   ]
  },
  {
   "cell_type": "code",
   "execution_count": 37,
   "metadata": {},
   "outputs": [
    {
     "data": {
      "text/plain": [
       "<AxesSubplot:xlabel='time_spent_on_the_page', ylabel='converted'>"
      ]
     },
     "execution_count": 37,
     "metadata": {},
     "output_type": "execute_result"
    },
    {
     "data": {
      "image/png": "[encoded data removed]",
      "text/plain": [
       "<Figure size 432x288 with 1 Axes>"
      ]
     },
     "metadata": {
      "needs_background": "light"
     },
     "output_type": "display_data"
    }
   ],
   "source": [
    "sns.boxplot(x=\"time_spent_on_the_page\",y=\"converted\",data=data,palette=\"tab10\")"
   ]
  },
  {
   "cell_type": "code",
   "execution_count": 38,
   "metadata": {},
   "outputs": [
    {
     "data": {
      "text/plain": [
       "converted\n",
       "no     3.915870\n",
       "yes    6.623148\n",
       "Name: time_spent_on_the_page, dtype: float64"
      ]
     },
     "execution_count": 38,
     "metadata": {},
     "output_type": "execute_result"
    }
   ],
   "source": [
    "data.groupby(\"converted\")[\"time_spent_on_the_page\"].mean()"
   ]
  },
  {
   "cell_type": "markdown",
   "metadata": {},
   "source": [
    "* Users who spent more time on the page have converted."
   ]
  },
  {
   "cell_type": "code",
   "execution_count": 39,
   "metadata": {},
   "outputs": [
    {
     "data": {
      "image/png": "[encoded data removed]",
      "text/plain": [
       "<Figure size 432x288 with 1 Axes>"
      ]
     },
     "metadata": {
      "needs_background": "light"
     },
     "output_type": "display_data"
    }
   ],
   "source": [
    "sns.boxplot(y=data[\"time_spent_on_the_page\"],x=data[\"language_preferred\"],palette=\"tab10\")\n",
    "plt.grid()\n",
    "plt.show()"
   ]
  },
  {
   "cell_type": "markdown",
   "metadata": {},
   "source": [
    "* Mean time spent is similar to all languages.\n",
    "* Range of the time spent is higher in English and French pages."
   ]
  },
  {
   "cell_type": "code",
   "execution_count": 40,
   "metadata": {},
   "outputs": [
    {
     "data": {
      "text/plain": [
       "<seaborn.axisgrid.FacetGrid at 0x1ff09ff09a0>"
      ]
     },
     "execution_count": 40,
     "metadata": {},
     "output_type": "execute_result"
    },
    {
     "data": {
      "image/png": "[encoded data removed]",
      "text/plain": [
       "<Figure size 466.125x360 with 1 Axes>"
      ]
     },
     "metadata": {
      "needs_background": "light"
     },
     "output_type": "display_data"
    }
   ],
   "source": [
    "sns.catplot(x=\"converted\",hue=\"language_preferred\",data=data,kind=\"count\",palette=\"tab10\")"
   ]
  },
  {
   "cell_type": "markdown",
   "metadata": {},
   "source": [
    "* More number of the English users have converted.\n",
    "* More of the French users have not converted.\n"
   ]
  },
  {
   "cell_type": "markdown",
   "metadata": {},
   "source": [
    "### Multivariate Analysis"
   ]
  },
  {
   "cell_type": "code",
   "execution_count": 41,
   "metadata": {
    "scrolled": false
   },
   "outputs": [
    {
     "data": {
      "text/plain": [
       "<seaborn.axisgrid.FacetGrid at 0x1ff09f25d90>"
      ]
     },
     "execution_count": 41,
     "metadata": {},
     "output_type": "execute_result"
    },
    {
     "data": {
      "image/png": "[encoded data removed]",
      "text/plain": [
       "<Figure size 720x360 with 2 Axes>"
      ]
     },
     "metadata": {
      "needs_background": "light"
     },
     "output_type": "display_data"
    }
   ],
   "source": [
    "sns.catplot(y=\"landing_page\",col=\"converted\",x=\"time_spent_on_the_page\", data=data,kind=\"box\")"
   ]
  },
  {
   "cell_type": "code",
   "execution_count": 42,
   "metadata": {},
   "outputs": [
    {
     "data": {
      "text/plain": [
       "converted\n",
       "no     3.34931\n",
       "yes    6.16619\n",
       "Name: time_spent_on_the_page, dtype: float64"
      ]
     },
     "execution_count": 42,
     "metadata": {},
     "output_type": "execute_result"
    }
   ],
   "source": [
    "#old page\n",
    "df1.groupby(\"converted\")[\"time_spent_on_the_page\"].mean()"
   ]
  },
  {
   "cell_type": "code",
   "execution_count": 43,
   "metadata": {},
   "outputs": [
    {
     "data": {
      "text/plain": [
       "converted\n",
       "no     4.882353\n",
       "yes    6.913939\n",
       "Name: time_spent_on_the_page, dtype: float64"
      ]
     },
     "execution_count": 43,
     "metadata": {},
     "output_type": "execute_result"
    }
   ],
   "source": [
    "#new page\n",
    "df2.groupby(\"converted\")[\"time_spent_on_the_page\"].mean()"
   ]
  },
  {
   "cell_type": "markdown",
   "metadata": {},
   "source": [
    "**Observations**\n",
    "* On an average those who have spent more than 6 minutes on the page (in both old/new) have converted."
   ]
  },
  {
   "cell_type": "code",
   "execution_count": 44,
   "metadata": {
    "scrolled": false
   },
   "outputs": [
    {
     "data": {
      "text/plain": [
       "<seaborn.axisgrid.FacetGrid at 0x1ff0a37e310>"
      ]
     },
     "execution_count": 44,
     "metadata": {},
     "output_type": "execute_result"
    },
    {
     "data": {
      "image/png": "[encoded data removed]",
      "text/plain": [
       "<Figure size 1138.38x360 with 3 Axes>"
      ]
     },
     "metadata": {
      "needs_background": "light"
     },
     "output_type": "display_data"
    }
   ],
   "source": [
    "sns.catplot(x=\"landing_page\",hue=\"converted\",col=\"language_preferred\",data=data,kind=\"count\")"
   ]
  },
  {
   "cell_type": "markdown",
   "metadata": {},
   "source": [
    "**Observations**\n",
    "* In Spanish users, more from the new landing page have converted and some from the old landing page have converted. This means that the new page is slightly better than the old page.\n",
    "* In English users almost same number of users in old and new landing pages have converted. This means that in both old and new pages, the content and usability has been good.\n",
    "* In French users, most of them from new landing page have converted and most of them from the old landing page have not converted. This means that the old page was not very attractive/useful to the users, thats why most of them did not convert. It also shows that the new page is much better than the old and thats why most of them converted. "
   ]
  },
  {
   "cell_type": "code",
   "execution_count": 31,
   "metadata": {},
   "outputs": [
    {
     "data": {
      "text/plain": [
       "<seaborn.axisgrid.FacetGrid at 0x1db58979490>"
      ]
     },
     "execution_count": 31,
     "metadata": {},
     "output_type": "execute_result"
    },
    {
     "data": {
      "image/png": "[encoded data removed]",
      "text/plain": [
       "<Figure size 826.125x360 with 2 Axes>"
      ]
     },
     "metadata": {
      "needs_background": "light"
     },
     "output_type": "display_data"
    }
   ],
   "source": [
    "sns.catplot(col=\"converted\",x=\"landing_page\",hue=\"language_preferred\",data=data,kind=\"count\",palette=\"tab10\")"
   ]
  },
  {
   "cell_type": "markdown",
   "metadata": {},
   "source": [
    "**Observations**\n",
    "* Most preferred language for those who have converted from new page is French.\n",
    "* Most preferred language for those who have converted from old page is English."
   ]
  },
  {
   "cell_type": "code",
   "execution_count": 49,
   "metadata": {},
   "outputs": [
    {
     "data": {
      "image/png": "[encoded data removed]",
      "text/plain": [
       "<Figure size 432x288 with 2 Axes>"
      ]
     },
     "metadata": {
      "needs_background": "light"
     },
     "output_type": "display_data"
    }
   ],
   "source": [
    "# Conversion based on English language\n",
    "f, axes = plt.subplots(1, 2)\n",
    "plt.subplots_adjust(left=None, bottom=None, right=None, top=None, wspace=0.5, hspace=None)\n",
    "\n",
    "df_eng_new=data[(data[\"language_preferred\"]==\"English\") & (data[\"landing_page\"]==\"new\")]\n",
    "ax=sns.countplot(x=\"converted\",data=df_eng_new,palette=\"tab10\",ax=axes[0])\n",
    "ax.set_title(\"English_new\")\n",
    "total = len(df_eng_new[\"converted\"]) # length of the column\n",
    "for p in ax.patches:\n",
    "    x = p.get_x() + p.get_width() / 2 - 0.05 # width of the plot\n",
    "    y = p.get_y() + p.get_height()           # hieght of the plot\n",
    "    ax.annotate('{:.1f}%'.format(round(p.get_height()/total*100,2)), (x, y), size = 12) # annotate the %\n",
    "    \n",
    "df_eng_old=data[(data[\"language_preferred\"]==\"English\") & (data[\"landing_page\"]==\"old\")]\n",
    "ax=sns.countplot(x=\"converted\",data=df_eng_old,palette=\"tab10\",ax=axes[1])\n",
    "ax.set_title(\"English_old\")\n",
    "total = len(df_eng_old[\"converted\"]) # length of the column\n",
    "for p in ax.patches:\n",
    "    x = p.get_x() + p.get_width() / 2 - 0.05 # width of the plot\n",
    "    y = p.get_y() + p.get_height()           # hieght of the plot\n",
    "    ax.annotate('{:.1f}%'.format(round(p.get_height()/total*100,2)), (x, y), size = 12) # annotate the %"
   ]
  },
  {
   "cell_type": "markdown",
   "metadata": {},
   "source": [
    "* More than 60% of users have converted in both old and new pages\n",
    "* This shows that there has been very small change in the content from old to new pages and both the content are very good too."
   ]
  },
  {
   "cell_type": "code",
   "execution_count": 50,
   "metadata": {},
   "outputs": [
    {
     "data": {
      "image/png": "[encoded data removed]",
      "text/plain": [
       "<Figure size 432x288 with 2 Axes>"
      ]
     },
     "metadata": {
      "needs_background": "light"
     },
     "output_type": "display_data"
    }
   ],
   "source": [
    "#Conversion based on French language\n",
    "f, axes = plt.subplots(1, 2)\n",
    "plt.subplots_adjust(left=None, bottom=None, right=None, top=None, wspace=0.5, hspace=None)\n",
    "\n",
    "df_french_new=data[(data[\"language_preferred\"]==\"French\") & (data[\"landing_page\"]==\"new\")]\n",
    "ax=sns.countplot(x=\"converted\",data=df_french_new,palette=\"tab10\",ax=axes[0])\n",
    "ax.set_title(\"French_new\")\n",
    "total = len(df_french_new[\"converted\"]) # length of the column\n",
    "for p in ax.patches:\n",
    "    x = p.get_x() + p.get_width() / 2 - 0.05 # width of the plot\n",
    "    y = p.get_y() + p.get_height()           # hieght of the plot\n",
    "    ax.annotate('{:.1f}%'.format(round(p.get_height()/total*100,2)), (x, y), size = 12) # annotate the %\n",
    "    \n",
    "df_french_old=data[(data[\"language_preferred\"]==\"French\") & (data[\"landing_page\"]==\"old\")]\n",
    "ax=sns.countplot(x=\"converted\",data=df_french_old,palette=\"tab10\",ax=axes[1])\n",
    "ax.set_title(\"French_old\")\n",
    "total = len(df_french_old[\"converted\"]) # length of the column\n",
    "for p in ax.patches:\n",
    "    x = p.get_x() + p.get_width() / 2 - 0.05 # width of the plot\n",
    "    y = p.get_y() + p.get_height()           # hieght of the plot\n",
    "    ax.annotate('{:.1f}%'.format(round(p.get_height()/total*100,2)), (x, y), size = 12) # annotate the %"
   ]
  },
  {
   "cell_type": "markdown",
   "metadata": {},
   "source": [
    "* 70% have converted in the new page an only 17% have converted in the old page.\n",
    "* This shows that French page has improved a lot."
   ]
  },
  {
   "cell_type": "code",
   "execution_count": 57,
   "metadata": {},
   "outputs": [
    {
     "data": {
      "image/png": "[encoded data removed]",
      "text/plain": [
       "<Figure size 432x288 with 2 Axes>"
      ]
     },
     "metadata": {
      "needs_background": "light"
     },
     "output_type": "display_data"
    }
   ],
   "source": [
    "#Conversion based on Spanish language\n",
    "f, axes = plt.subplots(1, 2)\n",
    "plt.subplots_adjust(left=None, bottom=None, right=None, top=None, wspace=0.5, hspace=None)\n",
    "\n",
    "df_span_new=data[(data[\"language_preferred\"]==\"Spanish\") & (data[\"landing_page\"]==\"new\")]\n",
    "ax=sns.countplot(x=\"converted\",data=df_span_new,palette=\"tab10\",ax=axes[0])\n",
    "ax.set_title(\"Spanish_new\")\n",
    "total = len(df_span_new[\"converted\"]) # length of the column\n",
    "for p in ax.patches:\n",
    "    x = p.get_x() + p.get_width() / 2 - 0.05 # width of the plot\n",
    "    y = p.get_y() + p.get_height()           # hieght of the plot\n",
    "    ax.annotate('{:.1f}%'.format(round(p.get_height()/total*100,2)), (x, y), size = 12) # annotate the %\n",
    "    \n",
    "df_span_old=data[(data[\"language_preferred\"]==\"Spanish\") & (data[\"landing_page\"]==\"old\")]\n",
    "ax=sns.countplot(x=\"converted\",data=df_span_old,palette=\"tab10\",ax=axes[1])\n",
    "ax.set_title(\"Spanish_old\")\n",
    "total = len(df_span_old[\"converted\"]) # length of the column\n",
    "for p in ax.patches:\n",
    "    x = p.get_x() + p.get_width() / 2 - 0.05 # width of the plot\n",
    "    y = p.get_y() + p.get_height()           # hieght of the plot\n",
    "    ax.annotate('{:.1f}%'.format(round(p.get_height()/total*100,2)), (x, y), size = 12) # annotate the %"
   ]
  },
  {
   "cell_type": "markdown",
   "metadata": {},
   "source": [
    "* About 65% have converted from the new page and only 41% have converted from the old page. \n",
    "* This shows that there is slight improvement in the content of the new page."
   ]
  },
  {
   "cell_type": "code",
   "execution_count": 46,
   "metadata": {},
   "outputs": [
    {
     "data": {
      "text/plain": [
       "<seaborn.axisgrid.FacetGrid at 0x1ff0a3514f0>"
      ]
     },
     "execution_count": 46,
     "metadata": {},
     "output_type": "execute_result"
    },
    {
     "data": {
      "image/png": "[encoded data removed]",
      "text/plain": [
       "<Figure size 1155.25x360 with 3 Axes>"
      ]
     },
     "metadata": {
      "needs_background": "light"
     },
     "output_type": "display_data"
    }
   ],
   "source": [
    "sns.catplot(y=\"time_spent_on_the_page\",hue=\"landing_page\",col=\"language_preferred\",x=\"converted\",data=data,kind=\"swarm\")"
   ]
  },
  {
   "cell_type": "markdown",
   "metadata": {},
   "source": [
    "**Observations**\n",
    "* Converted users have spent more time on the page.\n",
    "* Those who have spent less than 2 minutes have not converted.\n",
    "* More time is spent on content in English and French than in Spanish language."
   ]
  },
  {
   "cell_type": "markdown",
   "metadata": {},
   "source": [
    "### Key insights:\n",
    "\n",
    "* Mean time spent for different language users is almost same.\n",
    "* Number of users converted is greater for the new page than that in old landing page.\n",
    "* Converted users have spent more time on the page than those who did not convert.\n",
    "* Minimum time spent is more than that in the old page  which means the content of the new page is more interesting to at least skim through before leaving the page.\n",
    "* The content in French language has improved a lot as most preferred language of converted users is French.\n",
    "* 54% of users have converted and 46% have not converted.\n",
    "* Most preferred language for those who have converted is English and not converted is French.\n",
    "* Least preferred language for those who have converted is French and not converted is English.\n",
    "* Mean time spent on page by those who have converted is 6.6 minutes and not converted is 3.9 minutes.\n",
    "\n",
    "Based on Control group:\n",
    "\n",
    "* 58% of users have converted and 42% have not converted.\n",
    "* Most preferred language for those who have converted is English (68.8%) and not converted is French (82.3%).\n",
    "* Least preferred language for those who have converted is French (17.6%) and not converted is English (31.2%).\n",
    "* Mean time spent on page by those who have converted is 6.1 minutes and not converted is 3.3 minutes.\n",
    "\n",
    "Based on Treatment group:\n",
    "\n",
    "* 66% of users have converted and 34% have not converted.\n",
    "* Most preferred language for those who have converted is French (70.6%) and not converted is English (37.5%).\n",
    "* Least preferred language for those who have converted is English (62.5%) and not converted is French (29.4%).\n",
    "* Mean time spent on page by those who have converted is 6.9 minutes and not converted is 4.8 minutes.\n",
    "\n",
    "### Recommendations:\n",
    "\n",
    "Even though more than 50% of users have become subscribers, 46% of the users have not converted. To attract more customers and making them want to stay, the following strategies can be implemented:\n",
    "\n",
    "* Spend more time: To get a feel of the website users need to spend more time on the page. For this the way the content is presented has to look more eye-catchy.  \n",
    "\n",
    "* Language specific content: Additional content can be added to the page depending on the selected language. Offering news related to the home country of the language will make the users more interested as they get to know the happenings of their home country too.\n",
    " \n",
    "* Refer-a-friend: Current subscribers can recommend the website to their friends and can be offered some benefits if their friends subscribe too. \n",
    "\n",
    "* More languages can be introduced to attract users from different backgrounds.\n",
    "\n",
    "\n"
   ]
  },
  {
   "cell_type": "markdown",
   "metadata": {},
   "source": [
    "**=========================================================================================================================**\n",
    "\n",
    "## Hypothesis test to determine if users spend more time on the new landing page than the old landing page"
   ]
  },
  {
   "cell_type": "markdown",
   "metadata": {},
   "source": [
    "### Step 1: Define Null and Alternate hypothesis\n",
    "> $H_0:$ Time spent on new landing page is equal to the time spent on old landing page.\n",
    ">\n",
    "> $H_a:$ Time spent on new landing page is greater than the time spent on old landing page.\n",
    ">\n",
    "> Let $ \\mu_1 $ and $ \\mu_2 $ be the mean time spent on the new page and mean time spent on the old page respectively.\n",
    ">\n",
    "> Mathematically, the above formulated hypotheses can be written as:\n",
    ">\n",
    ">  -  $H_0: \\mu_1 = \\mu_2 $\n",
    ">\n",
    ">  -  $H_a: \\mu_1 > \\mu_2 $"
   ]
  },
  {
   "cell_type": "markdown",
   "metadata": {},
   "source": [
    "### Step 2: Select Appropriate test\n",
    "This is a case of a 2-sample independent t-test. The 2 independent samples are new page and old page. We need to calculate the mean times spent for both pages."
   ]
  },
  {
   "cell_type": "code",
   "execution_count": 136,
   "metadata": {},
   "outputs": [
    {
     "data": {
      "image/png": "[encoded data removed]",
      "text/plain": [
       "<Figure size 432x288 with 1 Axes>"
      ]
     },
     "metadata": {
      "needs_background": "light"
     },
     "output_type": "display_data"
    }
   ],
   "source": [
    "sns.boxplot(x=\"landing_page\",y=\"time_spent_on_the_page\",data=data,showmeans=True)\n",
    "plt.grid()"
   ]
  },
  {
   "cell_type": "markdown",
   "metadata": {},
   "source": [
    "**Observations**\n",
    "* Time spent on the old page ranges from 0 to 10 minutes\n",
    "* Time spent on the new page ranges from 3 to 10 minutes\n",
    "* This shows that the new page has content to be read for a minimum of 3 minutes. \n",
    "\n",
    "> Mean and median of the time spent on new page is higher than that of old page"
   ]
  },
  {
   "cell_type": "code",
   "execution_count": 194,
   "metadata": {
    "scrolled": false
   },
   "outputs": [
    {
     "data": {
      "image/png": "[encoded data removed]",
      "text/plain": [
       "<Figure size 432x288 with 1 Axes>"
      ]
     },
     "metadata": {},
     "output_type": "display_data"
    }
   ],
   "source": [
    "# histplot of time spent on the page by Control group\n",
    "sns.histplot(df1[\"time_spent_on_the_page\"],color=\"lightblue\",kde=True,label=\"Control group\")\n",
    "#mean time spent on old page\n",
    "oldmean=round(df1[\"time_spent_on_the_page\"].mean(),2)\n",
    "plt.axvline(oldmean,color='blue', linestyle='dashed', linewidth=2,label=\" Mean time on old page: \" +str(oldmean))\n",
    "\n",
    "# histplot of time spent on the page by Treatment group\n",
    "sns.histplot(df2[\"time_spent_on_the_page\"],color=\"red\",kde=True,label=\"Treatment group\")\n",
    "# mean time spent on new page\n",
    "newmean=round(df2[\"time_spent_on_the_page\"].mean(),2)\n",
    "plt.axvline(newmean,color='red', linestyle='dashed', linewidth=2, label=\"Mean time on new page: \"+str(newmean))\n",
    "\n",
    "# location of legend\n",
    "plt.legend(bbox_to_anchor=(1.02, 1), loc='upper left', borderaxespad=0)\n",
    "plt.show()"
   ]
  },
  {
   "cell_type": "markdown",
   "metadata": {},
   "source": [
    "* Minimum time spent by treatment group is greater than time spent by control group.\n",
    "* Maximum time spent by both groups is very similar\n",
    "* Mean time spent on the new page by the treatment group is higher than the mean time spent on the old page by the control group"
   ]
  },
  {
   "cell_type": "code",
   "execution_count": 47,
   "metadata": {
    "scrolled": true
   },
   "outputs": [
    {
     "name": "stdout",
     "output_type": "stream",
     "text": [
      "Mean time spent on old page: 4.53 minutes\n",
      "The standard deviation of time spent on old page: 2.58\n",
      "\n",
      "Mean time spent on new page: 6.22 minutes\n",
      "The standard deviation of time spent on new page: 1.82\n"
     ]
    }
   ],
   "source": [
    "print(\"Mean time spent on old page: %.2f\" % df1[\"time_spent_on_the_page\"].mean(),\"minutes\")\n",
    "print(\"The standard deviation of time spent on old page: %.2f\" % df1[\"time_spent_on_the_page\"].std())\n",
    "\n",
    "print(\"\\nMean time spent on new page: %.2f\" % df2[\"time_spent_on_the_page\"].mean(), \"minutes\")\n",
    "print(\"The standard deviation of time spent on new page: %.2f\" % df2[\"time_spent_on_the_page\"].std())\n"
   ]
  },
  {
   "cell_type": "markdown",
   "metadata": {},
   "source": [
    "### Test for assumptions for T-test \n",
    "\n",
    "We have to test the normality of both distributions and homogenity of variance"
   ]
  },
  {
   "cell_type": "markdown",
   "metadata": {
    "id": "_pFdvUuGC6qu"
   },
   "source": [
    "### Shapiro-Wilk’s test to test normality of Control group\n",
    "\n",
    "We will test the null hypothesis\n",
    "\n",
    ">$H_0:$ Time spent on the old page follows a normal distribution \n",
    "\n",
    "against the alternate hypothesis\n",
    "\n",
    ">$H_a:$ Time spent on the old page does not follow a normal distribution"
   ]
  },
  {
   "cell_type": "code",
   "execution_count": 52,
   "metadata": {},
   "outputs": [
    {
     "name": "stdout",
     "output_type": "stream",
     "text": [
      "The p-value is 0.45611920952796936\n"
     ]
    }
   ],
   "source": [
    "# Assumption: Normality of Control group\n",
    "# import the required function\n",
    "from scipy import stats\n",
    "# find the p-value\n",
    "w, p_value = stats.shapiro(df1['time_spent_on_the_page']) \n",
    "print('The p-value is', p_value)"
   ]
  },
  {
   "cell_type": "code",
   "execution_count": 53,
   "metadata": {},
   "outputs": [
    {
     "name": "stdout",
     "output_type": "stream",
     "text": [
      "As the p-value 0.45611920952796936 is greater than the level of significance, we fail to reject the null hypothesis.\n"
     ]
    }
   ],
   "source": [
    "# print the conclusion based on p-value\n",
    "if p_value < 0.05:\n",
    "    print(f'As the p-value {p_value} is less than the level of significance, we reject the null hypothesis.')\n",
    "else:\n",
    "    print(f'As the p-value {p_value} is greater than the level of significance, we fail to reject the null hypothesis.')"
   ]
  },
  {
   "cell_type": "markdown",
   "metadata": {},
   "source": [
    "Therefore we can conclude that Control group's distrbution is normal."
   ]
  },
  {
   "cell_type": "markdown",
   "metadata": {
    "id": "_pFdvUuGC6qu"
   },
   "source": [
    "### Shapiro-Wilk’s test to test normality of Treatment group\n",
    "\n",
    "We will test the null hypothesis\n",
    "\n",
    ">$H_0:$ Time spent on the new page follows a normal distribution \n",
    "\n",
    "against the alternate hypothesis\n",
    "\n",
    ">$H_a:$ Time spent on the new page does not follow a normal distribution"
   ]
  },
  {
   "cell_type": "code",
   "execution_count": 54,
   "metadata": {},
   "outputs": [
    {
     "name": "stdout",
     "output_type": "stream",
     "text": [
      "The p-value is 0.8040016293525696\n"
     ]
    }
   ],
   "source": [
    "# Assumption: Normality of Treatment group\n",
    "# import the required function\n",
    "from scipy import stats\n",
    "# find the p-value\n",
    "w, p_value = stats.shapiro(df2['time_spent_on_the_page']) \n",
    "print('The p-value is', p_value)"
   ]
  },
  {
   "cell_type": "code",
   "execution_count": 55,
   "metadata": {},
   "outputs": [
    {
     "name": "stdout",
     "output_type": "stream",
     "text": [
      "As the p-value 0.8040016293525696 is greater than the level of significance, we fail to reject the null hypothesis.\n"
     ]
    }
   ],
   "source": [
    "# print the conclusion based on p-value\n",
    "if p_value < 0.05:\n",
    "    print(f'As the p-value {p_value} is less than the level of significance, we reject the null hypothesis.')\n",
    "else:\n",
    "    print(f'As the p-value {p_value} is greater than the level of significance, we fail to reject the null hypothesis.')"
   ]
  },
  {
   "cell_type": "markdown",
   "metadata": {},
   "source": [
    "Therefore we can conclude that Control group's distrbution is normal.\n",
    "\n"
   ]
  },
  {
   "cell_type": "markdown",
   "metadata": {
    "id": "RN7l8dkREpFu"
   },
   "source": [
    "### Levene’s test of Homogeneity of variance\n",
    "\n",
    "We will test the null hypothesis\n",
    "\n",
    ">$H_0$: Population variance of Treatment group is equal population variance of Control group\n",
    "\n",
    "against the alternative hypothesis\n",
    "\n",
    ">$H_a$: Population variance of Treatment group is not equal to population variance of Control group"
   ]
  },
  {
   "cell_type": "code",
   "execution_count": 56,
   "metadata": {},
   "outputs": [
    {
     "name": "stdout",
     "output_type": "stream",
     "text": [
      "The p-value is 0.008950671168914447\n"
     ]
    }
   ],
   "source": [
    "#Assumption: Homogeneity of Variance\n",
    "from scipy.stats import levene\n",
    "statistic, p_value = levene( df1['time_spent_on_the_page'],df2['time_spent_on_the_page'])\n",
    "# find the p-value\n",
    "print('The p-value is', p_value)"
   ]
  },
  {
   "cell_type": "code",
   "execution_count": 57,
   "metadata": {},
   "outputs": [
    {
     "name": "stdout",
     "output_type": "stream",
     "text": [
      "As the p-value 0.008950671168914447 is less than the level of significance, we reject the null hypothesis.\n"
     ]
    }
   ],
   "source": [
    "# print the conclusion based on p-value\n",
    "if p_value < 0.05:\n",
    "    print(f'As the p-value {p_value} is less than the level of significance, we reject the null hypothesis.')\n",
    "else:\n",
    "    print(f'As the p-value {p_value} is greater than the level of significance, we fail to reject the null hypothesis.')"
   ]
  },
  {
   "cell_type": "markdown",
   "metadata": {},
   "source": [
    "Therefore we can conclude that Control group and treatment group have unequal variances."
   ]
  },
  {
   "cell_type": "markdown",
   "metadata": {
    "id": "-ZTenzwH-I6f"
   },
   "source": [
    "\n",
    "\n",
    "* Continuous data - Yes, the usage time is measured on a continuous scale.\n",
    "* Normally distributed populations - Shapiro-Wilk’s test has shown that both groups have normal distribution.\n",
    "* Independent populations - As we are taking random samples for two different type of users, the two samples are from two independent populations.\n",
    "* Unequal population standard deviations - Levene’s test has shown that both populations have different variances.\n",
    "* Random sampling from the population - Yes, we are informed that the collected sample is a simple random sample.\n",
    "\n",
    "\n",
    "\n"
   ]
  },
  {
   "cell_type": "markdown",
   "metadata": {},
   "source": [
    "### Step 3: Decide the significance level\n",
    "As given in the problem statement, we select α = 0.05."
   ]
  },
  {
   "cell_type": "markdown",
   "metadata": {},
   "source": [
    "### Step 4: Calculate the p-value\n",
    "scipy.stats.ttest_ind calculates the t-test on sample means from 2 populations. This function returns the test statistic and p-value for a right-tailed t-test as the alternative parameter is set to 'greater'."
   ]
  },
  {
   "cell_type": "code",
   "execution_count": 58,
   "metadata": {},
   "outputs": [
    {
     "name": "stdout",
     "output_type": "stream",
     "text": [
      "The p-value is 0.0001392381225166549\n"
     ]
    }
   ],
   "source": [
    "#import the required functions\n",
    "from scipy.stats import ttest_ind\n",
    "\n",
    "# find the p-value\n",
    "test_stat, p_value = ttest_ind(df2['time_spent_on_the_page'], df1['time_spent_on_the_page'], equal_var = False, alternative = 'greater')\n",
    "print('The p-value is ' + str(p_value))"
   ]
  },
  {
   "cell_type": "markdown",
   "metadata": {},
   "source": [
    "### Step 5: Compare the p-value with $\\alpha$"
   ]
  },
  {
   "cell_type": "code",
   "execution_count": 59,
   "metadata": {},
   "outputs": [
    {
     "name": "stdout",
     "output_type": "stream",
     "text": [
      "As the p-value 0.0001392381225166549 is less than the level of significance, we reject the null hypothesis.\n"
     ]
    }
   ],
   "source": [
    "# print the conclusion based on p-value\n",
    "if p_value < 0.05:\n",
    "    print(f'As the p-value {p_value} is less than the level of significance, we reject the null hypothesis.')\n",
    "else:\n",
    "    print(f'As the p-value {p_value} is greater than the level of significance, we fail to reject the null hypothesis.')"
   ]
  },
  {
   "cell_type": "markdown",
   "metadata": {},
   "source": [
    "### Step 6: Inference\n",
    "\n",
    "At the 5% significance level, we reject the null hypothesis. Hence we have enough statistical evidence to say that time spent on new landing page is greater than the time spent on old landing page."
   ]
  },
  {
   "cell_type": "markdown",
   "metadata": {},
   "source": [
    "**=========================================================================================================================**\n",
    "\n",
    "## Hypothesis test to determine if conversion rate is greater for new page"
   ]
  },
  {
   "cell_type": "markdown",
   "metadata": {},
   "source": [
    "### Step 1: Define Null and Alternate hypothesis\n",
    "> $H_0:$ Conversion rate for new page is equal to conversion rate for old page.\n",
    ">\n",
    "> $H_a:$ Conversion rate for new page is greater than conversion rate for old page.\n",
    ">\n",
    "> Let $p_1$ and $p_2$ be the conversion rate for the new page and the conversion rate for the old page respectively.\n",
    ">\n",
    "> Mathematically, the above formulated hypotheses can be written as:\n",
    ">\n",
    ">  -  $H_0: p_1 = p_2 $\n",
    ">\n",
    ">  -  $H_a: p_1 > p_2 $"
   ]
  },
  {
   "cell_type": "markdown",
   "metadata": {},
   "source": [
    "### Step 2: Select Appropriate test\n",
    "This is a case of a 2-sample Z test. The 2 samples are new page and old page. We need to calculate the conversion rate for both pages."
   ]
  },
  {
   "cell_type": "code",
   "execution_count": 60,
   "metadata": {},
   "outputs": [
    {
     "data": {
      "text/plain": [
       "<seaborn.axisgrid.FacetGrid at 0x1ff0a826550>"
      ]
     },
     "execution_count": 60,
     "metadata": {},
     "output_type": "execute_result"
    },
    {
     "data": {
      "image/png": "[encoded data removed]",
      "text/plain": [
       "<Figure size 720x360 with 2 Axes>"
      ]
     },
     "metadata": {
      "needs_background": "light"
     },
     "output_type": "display_data"
    }
   ],
   "source": [
    "sns.catplot(col=\"landing_page\",x=\"converted\",data=data,kind=\"count\")"
   ]
  },
  {
   "cell_type": "code",
   "execution_count": 61,
   "metadata": {},
   "outputs": [
    {
     "name": "stdout",
     "output_type": "stream",
     "text": [
      "21 users from the control group converted. \n",
      "Conversion rate: 0.42\n",
      "\n",
      " 33 users from the treatment group converted. \n",
      "Conversion rate: 0.66\n"
     ]
    }
   ],
   "source": [
    "n=0\n",
    "tot=0\n",
    "for i in df1[\"converted\"]:\n",
    "    if i==\"yes\":\n",
    "        n=n+1\n",
    "    tot=tot+1\n",
    "print(n,\"users from the control group converted. \")\n",
    "print(\"Conversion rate:\",n/tot)\n",
    "\n",
    "k=0\n",
    "total=0\n",
    "for i in df2[\"converted\"]:\n",
    "    if i==\"yes\":\n",
    "        k=k+1\n",
    "    total=total+1\n",
    "print(\"\\n\",k,\"users from the treatment group converted. \")\n",
    "print(\"Conversion rate:\",k/total)"
   ]
  },
  {
   "cell_type": "markdown",
   "metadata": {},
   "source": [
    "### Test for assumptions for Z-test\n",
    "\n",
    "*   Binomally distributed population - Yes, a user has either converted or not.\n",
    "*   Random sampling from the population - Yes, we are informed that the collected sample is a simple random sample.  \n",
    "*   Can the binomial distribution approximated to normal distribution - Yes. For binary data, CLT works slower than usual. The standard thing is to check whether np and n(1-p) are greater than or equal to 10. Here, n and p refer to the sample size and sample proportion respectively.\n",
    ">$np_1 = 50\\cdot \\frac{21}{50} =21 \\geq 10\\\\\n",
    "n(1-p_1) = 50 \\cdot \\frac{50-21}{50} = 29\\geq 10 \\\\\n",
    "np_2 = 50\\cdot \\frac{33}{50} =33 \\geq 10\\\\\n",
    "n(1-p_2) = 50 \\cdot \\frac{50-33}{50} =17 \\geq 10 $\n"
   ]
  },
  {
   "cell_type": "markdown",
   "metadata": {},
   "source": [
    "### Step 3: Decide the significance level\n",
    "As given in the problem statement, we select α = 0.05."
   ]
  },
  {
   "cell_type": "markdown",
   "metadata": {},
   "source": [
    "### Step 4: Calculate the p-value\n",
    "statsmodels.stats.proportion.proportions_ztest calculates the z-test on sample proportions from 2 populations. This function returns the test statistic and p-value for a right-tailed z-test in case the alternative parameter is set to 'greater'."
   ]
  },
  {
   "cell_type": "code",
   "execution_count": 62,
   "metadata": {},
   "outputs": [
    {
     "name": "stdout",
     "output_type": "stream",
     "text": [
      "The p-value is 0.008026308204056278\n"
     ]
    }
   ],
   "source": [
    "# import the required fuction\n",
    "from statsmodels.stats.proportion import proportions_ztest\n",
    "\n",
    "# set the counts of defective items\n",
    "converted_count = np.array([33, 21])\n",
    "\n",
    "# set the sample sizes\n",
    "nobs = np.array([50, 50])\n",
    "\n",
    "# find the p-value\n",
    "test_stat, p_value = proportions_ztest(converted_count, nobs,alternative='larger')\n",
    "print('The p-value is ' + str(p_value))"
   ]
  },
  {
   "cell_type": "markdown",
   "metadata": {},
   "source": [
    "### Step 5: Compare the p-value with $\\alpha$"
   ]
  },
  {
   "cell_type": "code",
   "execution_count": 63,
   "metadata": {},
   "outputs": [
    {
     "name": "stdout",
     "output_type": "stream",
     "text": [
      "As the p-value 0.008026308204056278 is less than the level of significance, we reject the null hypothesis.\n"
     ]
    }
   ],
   "source": [
    "# print the conclusion based on p-value\n",
    "if p_value < 0.05:\n",
    "    print(f'As the p-value {p_value} is less than the level of significance, we reject the null hypothesis.')\n",
    "else:\n",
    "    print(f'As the p-value {p_value} is greater than the level of significance, we fail to reject the null hypothesis.')"
   ]
  },
  {
   "cell_type": "markdown",
   "metadata": {},
   "source": [
    "### Step 6: Inference\n",
    "\n",
    "At the 5% significance level, we reject the null hypothesis. Hence we have enough statistical evidence to say that the conversion rate for new page is greater than conversion rate for old page."
   ]
  },
  {
   "cell_type": "markdown",
   "metadata": {},
   "source": [
    "**=========================================================================================================================**\n",
    "\n",
    "## Hypothesis test to check if  converted status depends on the preferred language"
   ]
  },
  {
   "cell_type": "markdown",
   "metadata": {},
   "source": [
    "### Step 1: Define Null and Alternate hypothesis\n",
    "> $H_0:$ Converted status depends on preferred language.\n",
    ">\n",
    "> $H_a:$ Converted status doesn't depend on preferred language.\n"
   ]
  },
  {
   "cell_type": "markdown",
   "metadata": {},
   "source": [
    "### Step 2: Select appropriate test\n",
    "\n",
    "This is a case of Chi-Square test of Independence"
   ]
  },
  {
   "cell_type": "markdown",
   "metadata": {
    "id": "ITiDm4GMgEnt"
   },
   "source": [
    "### Test for assumptions for Chi-Square test of independence\n",
    "\n",
    "* Categorical variables - Yes\n",
    "* Expected value of the number of sample observations in each level of the variable is at least 5 - Yes, the number of observations in each level is greater than 5.\n",
    "* Random sampling from the population - Yes, we are informed that the collected sample is a simple random sample.\n"
   ]
  },
  {
   "cell_type": "markdown",
   "metadata": {},
   "source": [
    "### Step 3: Decide the significance level\n",
    "As given in the problem statement, we select α = 0.05."
   ]
  },
  {
   "cell_type": "markdown",
   "metadata": {},
   "source": [
    "### Step 4: Calculate the p-value\n",
    "scipy.stats.chi2_contingency checks whether the categorical variables from a population are independent. This function returns chi-test statistic, p_value, dof-degrees of freedom, expected frequencies\n",
    "\n",
    "We first need to form a contingency table."
   ]
  },
  {
   "cell_type": "code",
   "execution_count": 64,
   "metadata": {
    "scrolled": true
   },
   "outputs": [
    {
     "data": {
      "text/html": [
       "<div>\n",
       "<style scoped>\n",
       "    .dataframe tbody tr th:only-of-type {\n",
       "        vertical-align: middle;\n",
       "    }\n",
       "\n",
       "    .dataframe tbody tr th {\n",
       "        vertical-align: top;\n",
       "    }\n",
       "\n",
       "    .dataframe thead th {\n",
       "        text-align: right;\n",
       "    }\n",
       "</style>\n",
       "<table border=\"1\" class=\"dataframe\">\n",
       "  <thead>\n",
       "    <tr style=\"text-align: right;\">\n",
       "      <th>language_preferred</th>\n",
       "      <th>English</th>\n",
       "      <th>French</th>\n",
       "      <th>Spanish</th>\n",
       "    </tr>\n",
       "    <tr>\n",
       "      <th>converted</th>\n",
       "      <th></th>\n",
       "      <th></th>\n",
       "      <th></th>\n",
       "    </tr>\n",
       "  </thead>\n",
       "  <tbody>\n",
       "    <tr>\n",
       "      <th>no</th>\n",
       "      <td>11</td>\n",
       "      <td>19</td>\n",
       "      <td>16</td>\n",
       "    </tr>\n",
       "    <tr>\n",
       "      <th>yes</th>\n",
       "      <td>21</td>\n",
       "      <td>15</td>\n",
       "      <td>18</td>\n",
       "    </tr>\n",
       "  </tbody>\n",
       "</table>\n",
       "</div>"
      ],
      "text/plain": [
       "language_preferred  English  French  Spanish\n",
       "converted                                   \n",
       "no                       11      19       16\n",
       "yes                      21      15       18"
      ]
     },
     "execution_count": 64,
     "metadata": {},
     "output_type": "execute_result"
    }
   ],
   "source": [
    "table=pd.crosstab(data.converted,data.language_preferred) # contingency table with preferred language and converted status\n",
    "table"
   ]
  },
  {
   "cell_type": "code",
   "execution_count": 65,
   "metadata": {},
   "outputs": [
    {
     "data": {
      "text/plain": [
       "<seaborn.axisgrid.FacetGrid at 0x1ff0a823850>"
      ]
     },
     "execution_count": 65,
     "metadata": {},
     "output_type": "execute_result"
    },
    {
     "data": {
      "image/png": "[encoded data removed]",
      "text/plain": [
       "<Figure size 1080x360 with 3 Axes>"
      ]
     },
     "metadata": {
      "needs_background": "light"
     },
     "output_type": "display_data"
    }
   ],
   "source": [
    "sns.catplot(x=\"converted\",col=\"language_preferred\",data=data,kind=\"count\")"
   ]
  },
  {
   "cell_type": "code",
   "execution_count": 66,
   "metadata": {},
   "outputs": [
    {
     "name": "stdout",
     "output_type": "stream",
     "text": [
      "The p-value is 0.21298887487543447\n"
     ]
    }
   ],
   "source": [
    "# import the required function\n",
    "from scipy.stats import chi2_contingency\n",
    "\n",
    "# find the p-value\n",
    "chi, p_value, dof, expected = chi2_contingency(table)\n",
    "print('The p-value is', p_value)"
   ]
  },
  {
   "cell_type": "markdown",
   "metadata": {},
   "source": [
    "### Step 5: Compare the p-value with $\\alpha$"
   ]
  },
  {
   "cell_type": "code",
   "execution_count": 67,
   "metadata": {},
   "outputs": [
    {
     "name": "stdout",
     "output_type": "stream",
     "text": [
      "As the p-value 0.21298887487543447 is greater than the level of significance, we fail to reject the null hypothesis.\n"
     ]
    }
   ],
   "source": [
    "# print the conclusion based on p-value\n",
    "if p_value < 0.05:\n",
    "    print(f'As the p-value {p_value} is less than the level of significance, we reject the null hypothesis.')\n",
    "else:\n",
    "    print(f'As the p-value {p_value} is greater than the level of significance, we fail to reject the null hypothesis.')"
   ]
  },
  {
   "cell_type": "markdown",
   "metadata": {},
   "source": [
    "### Step 6: Inference\n",
    "\n",
    "At the 5% significance level, we fail to reject the null hypothesis. Hence we have enough statistical evidence to say that the converted status depends on the preferred language. "
   ]
  },
  {
   "cell_type": "markdown",
   "metadata": {},
   "source": [
    "**=========================================================================================================================**\n",
    "\n",
    "## Hypothesis test to determine if the mean time spent on the new page is same for the different language users"
   ]
  },
  {
   "cell_type": "markdown",
   "metadata": {},
   "source": [
    "### Step 1: Define Null and Alternate hypothesis\n",
    "Let $\\mu_1, \\mu_2, \\mu_3$ be the mean times spent on the new page by different language users\n",
    "> $H_0: \\mu_1 = \\mu_2 = \\mu_3$\n",
    ">\n",
    "> $H_a: $ Mean time spent on the new page is different for atleast 1 language users. "
   ]
  },
  {
   "cell_type": "markdown",
   "metadata": {},
   "source": [
    "### Step 2: Select appropriate test\n",
    "\n",
    "This is a case of ANOVA test as the samples are from 3 independent populations"
   ]
  },
  {
   "cell_type": "markdown",
   "metadata": {
    "id": "qb-sMEm2WtHf"
   },
   "source": [
    "### Test assumptions for ANOVA test\n",
    "\n",
    "The normality and equality of variance assumptions need to be checked. \n",
    "\n",
    "* For testing of normality, Shapiro-Wilk’s test is applied to the response variable.\n",
    "\n",
    "* For equality of variance, Levene test is applied to the response variable."
   ]
  },
  {
   "cell_type": "markdown",
   "metadata": {
    "id": "_pFdvUuGC6qu"
   },
   "source": [
    "### Shapiro-Wilk’s test to test normailty of Control group\n",
    "\n",
    "We will test the null hypothesis\n",
    "\n",
    ">$H_0:$ Time spent on the new page follows a normal distribution \n",
    "\n",
    "against the alternate hypothesis\n",
    "\n",
    ">$H_a:$ Time spent on the new page does not follow a normal distribution"
   ]
  },
  {
   "cell_type": "code",
   "execution_count": 68,
   "metadata": {},
   "outputs": [
    {
     "name": "stdout",
     "output_type": "stream",
     "text": [
      "The p-value is 0.8040016293525696\n"
     ]
    }
   ],
   "source": [
    "# Assumption 1: Normality\n",
    "# import the required function\n",
    "from scipy import stats\n",
    "# find the p-value\n",
    "w, p_value = stats.shapiro(df2['time_spent_on_the_page']) \n",
    "print('The p-value is', p_value)"
   ]
  },
  {
   "cell_type": "code",
   "execution_count": 69,
   "metadata": {},
   "outputs": [
    {
     "name": "stdout",
     "output_type": "stream",
     "text": [
      "As the p-value 0.8040016293525696 is greater than the level of significance, we fail to reject the null hypothesis.\n"
     ]
    }
   ],
   "source": [
    "# print the conclusion based on p-value\n",
    "if p_value < 0.05:\n",
    "    print(f'As the p-value {p_value} is less than the level of significance, we reject the null hypothesis.')\n",
    "else:\n",
    "    print(f'As the p-value {p_value} is greater than the level of significance, we fail to reject the null hypothesis.')"
   ]
  },
  {
   "cell_type": "markdown",
   "metadata": {
    "id": "h1-_8Mi2EYIU"
   },
   "source": [
    "Therefore we can conclude that Control group follows normal distribution."
   ]
  },
  {
   "cell_type": "markdown",
   "metadata": {
    "id": "RN7l8dkREpFu"
   },
   "source": [
    "### Levene’s test to test for equality of variance of different language users\n",
    "\n",
    "We will test the null hypothesis\n",
    "\n",
    ">$H_0$: Population variances of all language users are equal\n",
    "\n",
    "against the alternative hypothesis\n",
    "\n",
    ">$H_a$: Population variances of atleast one language user is different from the rest"
   ]
  },
  {
   "cell_type": "code",
   "execution_count": 70,
   "metadata": {},
   "outputs": [
    {
     "name": "stdout",
     "output_type": "stream",
     "text": [
      "The p-value is 0.46711357711340173\n"
     ]
    }
   ],
   "source": [
    "#Assumption 2: Homogeneity of Variance\n",
    "#import the required function\n",
    "df3=data[(data[\"landing_page\"]==\"new\")]\n",
    "from scipy.stats import levene\n",
    "statistic, p_value = levene( df3['time_spent_on_the_page'][df3['language_preferred']==\"English\"], \n",
    "                                   df3['time_spent_on_the_page'][df3['language_preferred']==\"French\"], \n",
    "                                   df3['time_spent_on_the_page'][df3['language_preferred']==\"Spanish\"])\n",
    "# find the p-value\n",
    "print('The p-value is', p_value)"
   ]
  },
  {
   "cell_type": "code",
   "execution_count": 71,
   "metadata": {},
   "outputs": [
    {
     "name": "stdout",
     "output_type": "stream",
     "text": [
      "As the p-value 0.46711357711340173 is greater than the level of significance, we fail to reject the null hypothesis.\n"
     ]
    }
   ],
   "source": [
    "# print the conclusion based on p-value\n",
    "if p_value < 0.05:\n",
    "    print(f'As the p-value {p_value} is less than the level of significance, we reject the null hypothesis.')\n",
    "else:\n",
    "    print(f'As the p-value {p_value} is greater than the level of significance, we fail to reject the null hypothesis.')"
   ]
  },
  {
   "cell_type": "markdown",
   "metadata": {
    "id": "h1-_8Mi2EYIU"
   },
   "source": [
    "Therefore we can conclude that Population variances of all language users are equal"
   ]
  },
  {
   "cell_type": "markdown",
   "metadata": {},
   "source": [
    "* The populations are normally distributed - Yes, the normality assumption is verified using the Shapiro-Wilk’s test.\n",
    "* Samples are independent simple random samples - Yes, we are informed that the collected sample is a simple random sample.\n",
    "* Population variances are equal - Yes, the homogeneity of variance assumption is verified using the Levene's test.\n"
   ]
  },
  {
   "cell_type": "code",
   "execution_count": 72,
   "metadata": {},
   "outputs": [
    {
     "name": "stdout",
     "output_type": "stream",
     "text": [
      "language_preferred\n",
      "English    6.663750\n",
      "French     6.196471\n",
      "Spanish    5.835294\n",
      "Name: time_spent_on_the_page, dtype: float64\n"
     ]
    },
    {
     "data": {
      "text/plain": [
       "<AxesSubplot:xlabel='language_preferred', ylabel='time_spent_on_the_page'>"
      ]
     },
     "execution_count": 72,
     "metadata": {},
     "output_type": "execute_result"
    },
    {
     "data": {
      "image/png": "[encoded data removed]",
      "text/plain": [
       "<Figure size 432x288 with 1 Axes>"
      ]
     },
     "metadata": {
      "needs_background": "light"
     },
     "output_type": "display_data"
    }
   ],
   "source": [
    "# mean time spent on the new page for different language users\n",
    "print(df2.groupby(\"language_preferred\")[\"time_spent_on_the_page\"].mean())\n",
    "\n",
    "sns.boxplot(x=\"language_preferred\",y=\"time_spent_on_the_page\", showmeans=True, data=df3)"
   ]
  },
  {
   "cell_type": "markdown",
   "metadata": {},
   "source": [
    "### Step 3: Decide the significance level\n",
    "As given in the problem statement, we select α = 0.05."
   ]
  },
  {
   "cell_type": "markdown",
   "metadata": {},
   "source": [
    "### Step 4: Calculate the p-value\n",
    "scipy.stats.f_oneway compares the samples from 2 or more populations. "
   ]
  },
  {
   "cell_type": "code",
   "execution_count": 73,
   "metadata": {},
   "outputs": [
    {
     "name": "stdout",
     "output_type": "stream",
     "text": [
      "The p-value is 0.43204138694325955\n"
     ]
    }
   ],
   "source": [
    "#import the required function\n",
    "from scipy.stats import f_oneway\n",
    "\n",
    "# perform one-way anova test\n",
    "test_stat, p_value = f_oneway(df3.loc[df2['language_preferred'] == 'English', 'time_spent_on_the_page'],\n",
    "                              df3.loc[df2['language_preferred'] == 'French', 'time_spent_on_the_page'],\n",
    "                              df3.loc[df2['language_preferred'] == 'Spanish', 'time_spent_on_the_page'])\n",
    "print('The p-value is ' + str(p_value))"
   ]
  },
  {
   "cell_type": "markdown",
   "metadata": {},
   "source": [
    "### Step 5: Compare the p-value with $\\alpha$"
   ]
  },
  {
   "cell_type": "code",
   "execution_count": 74,
   "metadata": {},
   "outputs": [
    {
     "name": "stdout",
     "output_type": "stream",
     "text": [
      "As the p-value 0.43204138694325955 is greater than the level of significance, we fail to reject the null hypothesis.\n"
     ]
    }
   ],
   "source": [
    "# print the conclusion based on p-value\n",
    "if p_value < 0.05:\n",
    "    print(f'As the p-value {p_value} is less than the level of significance, we reject the null hypothesis.')\n",
    "else:\n",
    "    print(f'As the p-value {p_value} is greater than the level of significance, we fail to reject the null hypothesis.')"
   ]
  },
  {
   "cell_type": "markdown",
   "metadata": {},
   "source": [
    "### Step 6: Inference\n",
    "\n",
    "At the 5% significance level, we fail to reject the null hypothesis. Hence we have enough statistical evidence to say that the mean time spent on the new page is the same for different language users.\n",
    "\n",
    "**=========================================================================================================================**"
   ]
  },
  {
   "cell_type": "markdown",
   "metadata": {},
   "source": [
    "## Conclusion\n",
    "\n",
    "### Key insights\n",
    "\n",
    "* Time spent on the page follows Normal Distribution.\n",
    "* Mean time spent on the new page and mean time spent on the old page have unequal variances.\n",
    "* Mean time spent on the new page by different language users have equal population variances.\n",
    "* Time spent on new landing page is greater than the time spent on old landing page.\n",
    "* Conversion rate for new page is greater than conversion rate for old page.\n",
    "* Language plays an important role in the converted status.\n",
    "* Mean time spent on the new page is same for the different language users.\n",
    "* It is definitely better than the old page with respect to the content of the page in different languages and conversion ratios.\n",
    "* From EDA and the above results we can conclude that the New landing page is a success with some room for more improvement. \n",
    "\n",
    "\n",
    "### Recommendations\n",
    "\n",
    "To increase the number of subscribers, the following strategies can be considered:\n",
    "\n",
    "1. Improve content: For the content to look interesting and also be engaging, some factors to be considered are:  \n",
    "    * Visuals: Apart from interesting news, the Visual content is very important to make a reader to stay and make them wanting to know more. Nowadays people are always in a hurry and want everything to be given right to their face. Our brain processes visual information 60,000 times faster than texts. Therefore, other than just text, there can be more visuals like pictures, graphs/charts, illustrations related to the news.\n",
    "    * Fun: Everyone loves a good sense of humor. Adding comics and memes related to the news content will make the page look more interesting.\n",
    "    * Interactive: Users being able to comment and discuss the news article will make them visit more often to check for responses. Just like a physical newspaper, having crossword puzzles and sudoku to solve will keep them more engaged. Having weekly/monthly contests regarding Entertainment sections will keep the users more interested to renew their membership also. \n",
    "\n",
    "\n",
    "2. Advertise: To make people aware of the E-News portal, social media platforms can be used to advertise and gain publicity. Contest winners, new promotion plans, illustrations/comic strips related to the current happening topics can also be posted.\n",
    "\n",
    "\n",
    "3. Promotional plans: Introduce offers to existing subscribers and discounts to new subscribers. Offer coupons to famous restaurants to those subscribers who refer a friend.\n",
    "\n",
    "\n",
    "4. Suggestions: News articles can be suggested based on the user’s read/watched content. This will make them keep going on from one article to another and hence have a higher chance to become a subscriber.\n",
    "\n",
    "\n",
    "\n"
   ]
  },
  {
   "cell_type": "markdown",
   "metadata": {},
   "source": [
    "### Further Analysis\n",
    "\n",
    "With more details like the categories of news articles in the old and new pages, activity record of the users while accessing the page, time spent on each activity and more such information about the content of the old and new pages will give more scope for data analysis and statistical analysis of data which will help to give more targeted ideas to help gain more subscribers.\n"
   ]
  }
 ],
 "metadata": {
  "kernelspec": {
   "display_name": "Python 3",
   "language": "python",
   "name": "python3"
  },
  "language_info": {
   "codemirror_mode": {
    "name": "ipython",
    "version": 3
   },
   "file_extension": ".py",
   "mimetype": "text/x-python",
   "name": "python",
   "nbconvert_exporter": "python",
   "pygments_lexer": "ipython3",
   "version": "3.8.5"
  }
 },
 "nbformat": 4,
 "nbformat_minor": 4
}
